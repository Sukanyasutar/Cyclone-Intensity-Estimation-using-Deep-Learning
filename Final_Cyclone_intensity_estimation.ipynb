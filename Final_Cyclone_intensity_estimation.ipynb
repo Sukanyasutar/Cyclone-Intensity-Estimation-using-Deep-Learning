{
  "cells": [
    {
      "cell_type": "markdown",
      "metadata": {
        "id": "view-in-github",
        "colab_type": "text"
      },
      "source": [
        "<a href=\"https://colab.research.google.com/github/Sukanyasutar/Cyclone-Intensity-Estimation-using-Deep-Learning/blob/main/Final_Cyclone_intensity_estimation.ipynb\" target=\"_parent\"><img src=\"https://colab.research.google.com/assets/colab-badge.svg\" alt=\"Open In Colab\"/></a>"
      ]
    },
    {
      "cell_type": "code",
      "execution_count": null,
      "metadata": {
        "id": "oXNPb97z19ti"
      },
      "outputs": [],
      "source": [
        "import torch                                                                           # torch is an en source ml lbrary for creating deep learnng nerual network\n",
        "import torch.nn as nn                                                                  # help to build neural network\n",
        "import torchvision                                                                     # library for Computer Vision that goes hand in hand with PyTorch\n",
        "from torchvision import transforms\n",
        "from torchsummary import summary                                                       # Summarize the given PyTorch model\n",
        "import torchvision.transforms as transforms\n",
        "from torch.utils.data import Dataset, DataLoader\n",
        "import matplotlib.pyplot as plt                                                        # data visualization and graphical plotting library\n",
        "import numpy as np\n",
        "import cv2                                                                             # OpenCV is a great tool for image processing and performing computer vision tasks"
      ]
    },
    {
      "cell_type": "code",
      "execution_count": null,
      "metadata": {
        "colab": {
          "base_uri": "https://localhost:8080/"
        },
        "id": "FeBIUV76-veX",
        "outputId": "1fa3464e-deeb-438d-ede2-3524389b8feb"
      },
      "outputs": [
        {
          "output_type": "stream",
          "name": "stdout",
          "text": [
            "Drive already mounted at /content/drive; to attempt to forcibly remount, call drive.mount(\"/content/drive\", force_remount=True).\n"
          ]
        }
      ],
      "source": [
        "from google.colab import drive\n",
        "drive.mount('/content/drive')"
      ]
    },
    {
      "cell_type": "code",
      "execution_count": null,
      "metadata": {
        "colab": {
          "base_uri": "https://localhost:8080/",
          "height": 423
        },
        "id": "a6ZKW1F4zvGb",
        "outputId": "2992bf78-4659-4ed1-89f1-610f8ce85f73"
      },
      "outputs": [
        {
          "output_type": "execute_result",
          "data": {
            "text/plain": [
              "      img_name  label\n",
              "0       25.jpg     25\n",
              "1       27.jpg     27\n",
              "2       28.jpg     28\n",
              "3       30.jpg     30\n",
              "4    30(1).jpg     30\n",
              "..         ...    ...\n",
              "131    112.jpg    112\n",
              "132    115.jpg    115\n",
              "133    118.jpg    118\n",
              "134    119.jpg    119\n",
              "135    128.jpg    128\n",
              "\n",
              "[136 rows x 2 columns]"
            ],
            "text/html": [
              "\n",
              "  <div id=\"df-a1a8cff5-94bb-4d35-9193-be8390efa99f\">\n",
              "    <div class=\"colab-df-container\">\n",
              "      <div>\n",
              "<style scoped>\n",
              "    .dataframe tbody tr th:only-of-type {\n",
              "        vertical-align: middle;\n",
              "    }\n",
              "\n",
              "    .dataframe tbody tr th {\n",
              "        vertical-align: top;\n",
              "    }\n",
              "\n",
              "    .dataframe thead th {\n",
              "        text-align: right;\n",
              "    }\n",
              "</style>\n",
              "<table border=\"1\" class=\"dataframe\">\n",
              "  <thead>\n",
              "    <tr style=\"text-align: right;\">\n",
              "      <th></th>\n",
              "      <th>img_name</th>\n",
              "      <th>label</th>\n",
              "    </tr>\n",
              "  </thead>\n",
              "  <tbody>\n",
              "    <tr>\n",
              "      <th>0</th>\n",
              "      <td>25.jpg</td>\n",
              "      <td>25</td>\n",
              "    </tr>\n",
              "    <tr>\n",
              "      <th>1</th>\n",
              "      <td>27.jpg</td>\n",
              "      <td>27</td>\n",
              "    </tr>\n",
              "    <tr>\n",
              "      <th>2</th>\n",
              "      <td>28.jpg</td>\n",
              "      <td>28</td>\n",
              "    </tr>\n",
              "    <tr>\n",
              "      <th>3</th>\n",
              "      <td>30.jpg</td>\n",
              "      <td>30</td>\n",
              "    </tr>\n",
              "    <tr>\n",
              "      <th>4</th>\n",
              "      <td>30(1).jpg</td>\n",
              "      <td>30</td>\n",
              "    </tr>\n",
              "    <tr>\n",
              "      <th>...</th>\n",
              "      <td>...</td>\n",
              "      <td>...</td>\n",
              "    </tr>\n",
              "    <tr>\n",
              "      <th>131</th>\n",
              "      <td>112.jpg</td>\n",
              "      <td>112</td>\n",
              "    </tr>\n",
              "    <tr>\n",
              "      <th>132</th>\n",
              "      <td>115.jpg</td>\n",
              "      <td>115</td>\n",
              "    </tr>\n",
              "    <tr>\n",
              "      <th>133</th>\n",
              "      <td>118.jpg</td>\n",
              "      <td>118</td>\n",
              "    </tr>\n",
              "    <tr>\n",
              "      <th>134</th>\n",
              "      <td>119.jpg</td>\n",
              "      <td>119</td>\n",
              "    </tr>\n",
              "    <tr>\n",
              "      <th>135</th>\n",
              "      <td>128.jpg</td>\n",
              "      <td>128</td>\n",
              "    </tr>\n",
              "  </tbody>\n",
              "</table>\n",
              "<p>136 rows × 2 columns</p>\n",
              "</div>\n",
              "      <button class=\"colab-df-convert\" onclick=\"convertToInteractive('df-a1a8cff5-94bb-4d35-9193-be8390efa99f')\"\n",
              "              title=\"Convert this dataframe to an interactive table.\"\n",
              "              style=\"display:none;\">\n",
              "        \n",
              "  <svg xmlns=\"http://www.w3.org/2000/svg\" height=\"24px\"viewBox=\"0 0 24 24\"\n",
              "       width=\"24px\">\n",
              "    <path d=\"M0 0h24v24H0V0z\" fill=\"none\"/>\n",
              "    <path d=\"M18.56 5.44l.94 2.06.94-2.06 2.06-.94-2.06-.94-.94-2.06-.94 2.06-2.06.94zm-11 1L8.5 8.5l.94-2.06 2.06-.94-2.06-.94L8.5 2.5l-.94 2.06-2.06.94zm10 10l.94 2.06.94-2.06 2.06-.94-2.06-.94-.94-2.06-.94 2.06-2.06.94z\"/><path d=\"M17.41 7.96l-1.37-1.37c-.4-.4-.92-.59-1.43-.59-.52 0-1.04.2-1.43.59L10.3 9.45l-7.72 7.72c-.78.78-.78 2.05 0 2.83L4 21.41c.39.39.9.59 1.41.59.51 0 1.02-.2 1.41-.59l7.78-7.78 2.81-2.81c.8-.78.8-2.07 0-2.86zM5.41 20L4 18.59l7.72-7.72 1.47 1.35L5.41 20z\"/>\n",
              "  </svg>\n",
              "      </button>\n",
              "      \n",
              "  <style>\n",
              "    .colab-df-container {\n",
              "      display:flex;\n",
              "      flex-wrap:wrap;\n",
              "      gap: 12px;\n",
              "    }\n",
              "\n",
              "    .colab-df-convert {\n",
              "      background-color: #E8F0FE;\n",
              "      border: none;\n",
              "      border-radius: 50%;\n",
              "      cursor: pointer;\n",
              "      display: none;\n",
              "      fill: #1967D2;\n",
              "      height: 32px;\n",
              "      padding: 0 0 0 0;\n",
              "      width: 32px;\n",
              "    }\n",
              "\n",
              "    .colab-df-convert:hover {\n",
              "      background-color: #E2EBFA;\n",
              "      box-shadow: 0px 1px 2px rgba(60, 64, 67, 0.3), 0px 1px 3px 1px rgba(60, 64, 67, 0.15);\n",
              "      fill: #174EA6;\n",
              "    }\n",
              "\n",
              "    [theme=dark] .colab-df-convert {\n",
              "      background-color: #3B4455;\n",
              "      fill: #D2E3FC;\n",
              "    }\n",
              "\n",
              "    [theme=dark] .colab-df-convert:hover {\n",
              "      background-color: #434B5C;\n",
              "      box-shadow: 0px 1px 3px 1px rgba(0, 0, 0, 0.15);\n",
              "      filter: drop-shadow(0px 1px 2px rgba(0, 0, 0, 0.3));\n",
              "      fill: #FFFFFF;\n",
              "    }\n",
              "  </style>\n",
              "\n",
              "      <script>\n",
              "        const buttonEl =\n",
              "          document.querySelector('#df-a1a8cff5-94bb-4d35-9193-be8390efa99f button.colab-df-convert');\n",
              "        buttonEl.style.display =\n",
              "          google.colab.kernel.accessAllowed ? 'block' : 'none';\n",
              "\n",
              "        async function convertToInteractive(key) {\n",
              "          const element = document.querySelector('#df-a1a8cff5-94bb-4d35-9193-be8390efa99f');\n",
              "          const dataTable =\n",
              "            await google.colab.kernel.invokeFunction('convertToInteractive',\n",
              "                                                     [key], {});\n",
              "          if (!dataTable) return;\n",
              "\n",
              "          const docLinkHtml = 'Like what you see? Visit the ' +\n",
              "            '<a target=\"_blank\" href=https://colab.research.google.com/notebooks/data_table.ipynb>data table notebook</a>'\n",
              "            + ' to learn more about interactive tables.';\n",
              "          element.innerHTML = '';\n",
              "          dataTable['output_type'] = 'display_data';\n",
              "          await google.colab.output.renderOutput(dataTable, element);\n",
              "          const docLink = document.createElement('div');\n",
              "          docLink.innerHTML = docLinkHtml;\n",
              "          element.appendChild(docLink);\n",
              "        }\n",
              "      </script>\n",
              "    </div>\n",
              "  </div>\n",
              "  "
            ]
          },
          "metadata": {},
          "execution_count": 72
        }
      ],
      "source": [
        "import pandas as pd\n",
        "pd.read_csv('/content/drive/MyDrive/insat_3d_ds - Sheet.csv')"
      ]
    },
    {
      "cell_type": "code",
      "execution_count": null,
      "metadata": {
        "id": "DsOvCmiy1OOg"
      },
      "outputs": [],
      "source": [
        "TRAIN_DIR = '/content/drive/MyDrive/insat3d_ir_cyclone_ds/CYCLONE_DATASET_INFRARED'    #cyclone images\n",
        "ROOT_DIR = '/content'"
      ]
    },
    {
      "cell_type": "code",
      "execution_count": null,
      "metadata": {
        "id": "RT6DFctm1J1R"
      },
      "outputs": [],
      "source": [
        "def get_train_file_path(id):\n",
        "    return f\"{TRAIN_DIR}/{id}\"                                                         # F-strings provide a way to embed expressions inside string literals, using a minimal syntax"
      ]
    },
    {
      "cell_type": "code",
      "execution_count": null,
      "metadata": {
        "id": "8s8GwUZW1Wte"
      },
      "outputs": [],
      "source": [
        "df = pd.read_csv(\"/content/drive/MyDrive/insat_3d_ds - Sheet.csv\")\n",
        "df['file_path'] = df['img_name'].apply(get_train_file_path)                            # file path applied to each image"
      ]
    },
    {
      "cell_type": "code",
      "execution_count": null,
      "metadata": {
        "colab": {
          "base_uri": "https://localhost:8080/",
          "height": 423
        },
        "id": "E62LkLyA1qLl",
        "outputId": "49546769-bb11-4041-fd62-c1170ef60aff"
      },
      "outputs": [
        {
          "output_type": "execute_result",
          "data": {
            "text/plain": [
              "      img_name  label                                          file_path\n",
              "0       25.jpg     25  /content/drive/MyDrive/insat3d_ir_cyclone_ds/C...\n",
              "1       27.jpg     27  /content/drive/MyDrive/insat3d_ir_cyclone_ds/C...\n",
              "2       28.jpg     28  /content/drive/MyDrive/insat3d_ir_cyclone_ds/C...\n",
              "3       30.jpg     30  /content/drive/MyDrive/insat3d_ir_cyclone_ds/C...\n",
              "4    30(1).jpg     30  /content/drive/MyDrive/insat3d_ir_cyclone_ds/C...\n",
              "..         ...    ...                                                ...\n",
              "131    112.jpg    112  /content/drive/MyDrive/insat3d_ir_cyclone_ds/C...\n",
              "132    115.jpg    115  /content/drive/MyDrive/insat3d_ir_cyclone_ds/C...\n",
              "133    118.jpg    118  /content/drive/MyDrive/insat3d_ir_cyclone_ds/C...\n",
              "134    119.jpg    119  /content/drive/MyDrive/insat3d_ir_cyclone_ds/C...\n",
              "135    128.jpg    128  /content/drive/MyDrive/insat3d_ir_cyclone_ds/C...\n",
              "\n",
              "[136 rows x 3 columns]"
            ],
            "text/html": [
              "\n",
              "  <div id=\"df-58e21907-e5db-40ad-a4a1-91e9fe625262\">\n",
              "    <div class=\"colab-df-container\">\n",
              "      <div>\n",
              "<style scoped>\n",
              "    .dataframe tbody tr th:only-of-type {\n",
              "        vertical-align: middle;\n",
              "    }\n",
              "\n",
              "    .dataframe tbody tr th {\n",
              "        vertical-align: top;\n",
              "    }\n",
              "\n",
              "    .dataframe thead th {\n",
              "        text-align: right;\n",
              "    }\n",
              "</style>\n",
              "<table border=\"1\" class=\"dataframe\">\n",
              "  <thead>\n",
              "    <tr style=\"text-align: right;\">\n",
              "      <th></th>\n",
              "      <th>img_name</th>\n",
              "      <th>label</th>\n",
              "      <th>file_path</th>\n",
              "    </tr>\n",
              "  </thead>\n",
              "  <tbody>\n",
              "    <tr>\n",
              "      <th>0</th>\n",
              "      <td>25.jpg</td>\n",
              "      <td>25</td>\n",
              "      <td>/content/drive/MyDrive/insat3d_ir_cyclone_ds/C...</td>\n",
              "    </tr>\n",
              "    <tr>\n",
              "      <th>1</th>\n",
              "      <td>27.jpg</td>\n",
              "      <td>27</td>\n",
              "      <td>/content/drive/MyDrive/insat3d_ir_cyclone_ds/C...</td>\n",
              "    </tr>\n",
              "    <tr>\n",
              "      <th>2</th>\n",
              "      <td>28.jpg</td>\n",
              "      <td>28</td>\n",
              "      <td>/content/drive/MyDrive/insat3d_ir_cyclone_ds/C...</td>\n",
              "    </tr>\n",
              "    <tr>\n",
              "      <th>3</th>\n",
              "      <td>30.jpg</td>\n",
              "      <td>30</td>\n",
              "      <td>/content/drive/MyDrive/insat3d_ir_cyclone_ds/C...</td>\n",
              "    </tr>\n",
              "    <tr>\n",
              "      <th>4</th>\n",
              "      <td>30(1).jpg</td>\n",
              "      <td>30</td>\n",
              "      <td>/content/drive/MyDrive/insat3d_ir_cyclone_ds/C...</td>\n",
              "    </tr>\n",
              "    <tr>\n",
              "      <th>...</th>\n",
              "      <td>...</td>\n",
              "      <td>...</td>\n",
              "      <td>...</td>\n",
              "    </tr>\n",
              "    <tr>\n",
              "      <th>131</th>\n",
              "      <td>112.jpg</td>\n",
              "      <td>112</td>\n",
              "      <td>/content/drive/MyDrive/insat3d_ir_cyclone_ds/C...</td>\n",
              "    </tr>\n",
              "    <tr>\n",
              "      <th>132</th>\n",
              "      <td>115.jpg</td>\n",
              "      <td>115</td>\n",
              "      <td>/content/drive/MyDrive/insat3d_ir_cyclone_ds/C...</td>\n",
              "    </tr>\n",
              "    <tr>\n",
              "      <th>133</th>\n",
              "      <td>118.jpg</td>\n",
              "      <td>118</td>\n",
              "      <td>/content/drive/MyDrive/insat3d_ir_cyclone_ds/C...</td>\n",
              "    </tr>\n",
              "    <tr>\n",
              "      <th>134</th>\n",
              "      <td>119.jpg</td>\n",
              "      <td>119</td>\n",
              "      <td>/content/drive/MyDrive/insat3d_ir_cyclone_ds/C...</td>\n",
              "    </tr>\n",
              "    <tr>\n",
              "      <th>135</th>\n",
              "      <td>128.jpg</td>\n",
              "      <td>128</td>\n",
              "      <td>/content/drive/MyDrive/insat3d_ir_cyclone_ds/C...</td>\n",
              "    </tr>\n",
              "  </tbody>\n",
              "</table>\n",
              "<p>136 rows × 3 columns</p>\n",
              "</div>\n",
              "      <button class=\"colab-df-convert\" onclick=\"convertToInteractive('df-58e21907-e5db-40ad-a4a1-91e9fe625262')\"\n",
              "              title=\"Convert this dataframe to an interactive table.\"\n",
              "              style=\"display:none;\">\n",
              "        \n",
              "  <svg xmlns=\"http://www.w3.org/2000/svg\" height=\"24px\"viewBox=\"0 0 24 24\"\n",
              "       width=\"24px\">\n",
              "    <path d=\"M0 0h24v24H0V0z\" fill=\"none\"/>\n",
              "    <path d=\"M18.56 5.44l.94 2.06.94-2.06 2.06-.94-2.06-.94-.94-2.06-.94 2.06-2.06.94zm-11 1L8.5 8.5l.94-2.06 2.06-.94-2.06-.94L8.5 2.5l-.94 2.06-2.06.94zm10 10l.94 2.06.94-2.06 2.06-.94-2.06-.94-.94-2.06-.94 2.06-2.06.94z\"/><path d=\"M17.41 7.96l-1.37-1.37c-.4-.4-.92-.59-1.43-.59-.52 0-1.04.2-1.43.59L10.3 9.45l-7.72 7.72c-.78.78-.78 2.05 0 2.83L4 21.41c.39.39.9.59 1.41.59.51 0 1.02-.2 1.41-.59l7.78-7.78 2.81-2.81c.8-.78.8-2.07 0-2.86zM5.41 20L4 18.59l7.72-7.72 1.47 1.35L5.41 20z\"/>\n",
              "  </svg>\n",
              "      </button>\n",
              "      \n",
              "  <style>\n",
              "    .colab-df-container {\n",
              "      display:flex;\n",
              "      flex-wrap:wrap;\n",
              "      gap: 12px;\n",
              "    }\n",
              "\n",
              "    .colab-df-convert {\n",
              "      background-color: #E8F0FE;\n",
              "      border: none;\n",
              "      border-radius: 50%;\n",
              "      cursor: pointer;\n",
              "      display: none;\n",
              "      fill: #1967D2;\n",
              "      height: 32px;\n",
              "      padding: 0 0 0 0;\n",
              "      width: 32px;\n",
              "    }\n",
              "\n",
              "    .colab-df-convert:hover {\n",
              "      background-color: #E2EBFA;\n",
              "      box-shadow: 0px 1px 2px rgba(60, 64, 67, 0.3), 0px 1px 3px 1px rgba(60, 64, 67, 0.15);\n",
              "      fill: #174EA6;\n",
              "    }\n",
              "\n",
              "    [theme=dark] .colab-df-convert {\n",
              "      background-color: #3B4455;\n",
              "      fill: #D2E3FC;\n",
              "    }\n",
              "\n",
              "    [theme=dark] .colab-df-convert:hover {\n",
              "      background-color: #434B5C;\n",
              "      box-shadow: 0px 1px 3px 1px rgba(0, 0, 0, 0.15);\n",
              "      filter: drop-shadow(0px 1px 2px rgba(0, 0, 0, 0.3));\n",
              "      fill: #FFFFFF;\n",
              "    }\n",
              "  </style>\n",
              "\n",
              "      <script>\n",
              "        const buttonEl =\n",
              "          document.querySelector('#df-58e21907-e5db-40ad-a4a1-91e9fe625262 button.colab-df-convert');\n",
              "        buttonEl.style.display =\n",
              "          google.colab.kernel.accessAllowed ? 'block' : 'none';\n",
              "\n",
              "        async function convertToInteractive(key) {\n",
              "          const element = document.querySelector('#df-58e21907-e5db-40ad-a4a1-91e9fe625262');\n",
              "          const dataTable =\n",
              "            await google.colab.kernel.invokeFunction('convertToInteractive',\n",
              "                                                     [key], {});\n",
              "          if (!dataTable) return;\n",
              "\n",
              "          const docLinkHtml = 'Like what you see? Visit the ' +\n",
              "            '<a target=\"_blank\" href=https://colab.research.google.com/notebooks/data_table.ipynb>data table notebook</a>'\n",
              "            + ' to learn more about interactive tables.';\n",
              "          element.innerHTML = '';\n",
              "          dataTable['output_type'] = 'display_data';\n",
              "          await google.colab.output.renderOutput(dataTable, element);\n",
              "          const docLink = document.createElement('div');\n",
              "          docLink.innerHTML = docLinkHtml;\n",
              "          element.appendChild(docLink);\n",
              "        }\n",
              "      </script>\n",
              "    </div>\n",
              "  </div>\n",
              "  "
            ]
          },
          "metadata": {},
          "execution_count": 76
        }
      ],
      "source": [
        "df"
      ]
    },
    {
      "cell_type": "code",
      "execution_count": null,
      "metadata": {
        "id": "uvZ9YtDktD_I"
      },
      "outputs": [],
      "source": [
        "\n",
        "df = df.drop([df.index[32] , df.index[116], df.index[124]])                             # withdraw 3 images having varying intensities for evaluating model performance"
      ]
    },
    {
      "cell_type": "code",
      "execution_count": null,
      "metadata": {
        "colab": {
          "base_uri": "https://localhost:8080/",
          "height": 423
        },
        "id": "EYN4anakuC_A",
        "outputId": "cffb2d34-915f-4121-ff9f-37a8668b415a"
      },
      "outputs": [
        {
          "output_type": "execute_result",
          "data": {
            "text/plain": [
              "      img_name  label                                          file_path\n",
              "0       25.jpg     25  /content/drive/MyDrive/insat3d_ir_cyclone_ds/C...\n",
              "1       27.jpg     27  /content/drive/MyDrive/insat3d_ir_cyclone_ds/C...\n",
              "2       28.jpg     28  /content/drive/MyDrive/insat3d_ir_cyclone_ds/C...\n",
              "3       30.jpg     30  /content/drive/MyDrive/insat3d_ir_cyclone_ds/C...\n",
              "4    30(1).jpg     30  /content/drive/MyDrive/insat3d_ir_cyclone_ds/C...\n",
              "..         ...    ...                                                ...\n",
              "131    112.jpg    112  /content/drive/MyDrive/insat3d_ir_cyclone_ds/C...\n",
              "132    115.jpg    115  /content/drive/MyDrive/insat3d_ir_cyclone_ds/C...\n",
              "133    118.jpg    118  /content/drive/MyDrive/insat3d_ir_cyclone_ds/C...\n",
              "134    119.jpg    119  /content/drive/MyDrive/insat3d_ir_cyclone_ds/C...\n",
              "135    128.jpg    128  /content/drive/MyDrive/insat3d_ir_cyclone_ds/C...\n",
              "\n",
              "[133 rows x 3 columns]"
            ],
            "text/html": [
              "\n",
              "  <div id=\"df-55da2f62-729f-4c61-8c3e-743e238ecd67\">\n",
              "    <div class=\"colab-df-container\">\n",
              "      <div>\n",
              "<style scoped>\n",
              "    .dataframe tbody tr th:only-of-type {\n",
              "        vertical-align: middle;\n",
              "    }\n",
              "\n",
              "    .dataframe tbody tr th {\n",
              "        vertical-align: top;\n",
              "    }\n",
              "\n",
              "    .dataframe thead th {\n",
              "        text-align: right;\n",
              "    }\n",
              "</style>\n",
              "<table border=\"1\" class=\"dataframe\">\n",
              "  <thead>\n",
              "    <tr style=\"text-align: right;\">\n",
              "      <th></th>\n",
              "      <th>img_name</th>\n",
              "      <th>label</th>\n",
              "      <th>file_path</th>\n",
              "    </tr>\n",
              "  </thead>\n",
              "  <tbody>\n",
              "    <tr>\n",
              "      <th>0</th>\n",
              "      <td>25.jpg</td>\n",
              "      <td>25</td>\n",
              "      <td>/content/drive/MyDrive/insat3d_ir_cyclone_ds/C...</td>\n",
              "    </tr>\n",
              "    <tr>\n",
              "      <th>1</th>\n",
              "      <td>27.jpg</td>\n",
              "      <td>27</td>\n",
              "      <td>/content/drive/MyDrive/insat3d_ir_cyclone_ds/C...</td>\n",
              "    </tr>\n",
              "    <tr>\n",
              "      <th>2</th>\n",
              "      <td>28.jpg</td>\n",
              "      <td>28</td>\n",
              "      <td>/content/drive/MyDrive/insat3d_ir_cyclone_ds/C...</td>\n",
              "    </tr>\n",
              "    <tr>\n",
              "      <th>3</th>\n",
              "      <td>30.jpg</td>\n",
              "      <td>30</td>\n",
              "      <td>/content/drive/MyDrive/insat3d_ir_cyclone_ds/C...</td>\n",
              "    </tr>\n",
              "    <tr>\n",
              "      <th>4</th>\n",
              "      <td>30(1).jpg</td>\n",
              "      <td>30</td>\n",
              "      <td>/content/drive/MyDrive/insat3d_ir_cyclone_ds/C...</td>\n",
              "    </tr>\n",
              "    <tr>\n",
              "      <th>...</th>\n",
              "      <td>...</td>\n",
              "      <td>...</td>\n",
              "      <td>...</td>\n",
              "    </tr>\n",
              "    <tr>\n",
              "      <th>131</th>\n",
              "      <td>112.jpg</td>\n",
              "      <td>112</td>\n",
              "      <td>/content/drive/MyDrive/insat3d_ir_cyclone_ds/C...</td>\n",
              "    </tr>\n",
              "    <tr>\n",
              "      <th>132</th>\n",
              "      <td>115.jpg</td>\n",
              "      <td>115</td>\n",
              "      <td>/content/drive/MyDrive/insat3d_ir_cyclone_ds/C...</td>\n",
              "    </tr>\n",
              "    <tr>\n",
              "      <th>133</th>\n",
              "      <td>118.jpg</td>\n",
              "      <td>118</td>\n",
              "      <td>/content/drive/MyDrive/insat3d_ir_cyclone_ds/C...</td>\n",
              "    </tr>\n",
              "    <tr>\n",
              "      <th>134</th>\n",
              "      <td>119.jpg</td>\n",
              "      <td>119</td>\n",
              "      <td>/content/drive/MyDrive/insat3d_ir_cyclone_ds/C...</td>\n",
              "    </tr>\n",
              "    <tr>\n",
              "      <th>135</th>\n",
              "      <td>128.jpg</td>\n",
              "      <td>128</td>\n",
              "      <td>/content/drive/MyDrive/insat3d_ir_cyclone_ds/C...</td>\n",
              "    </tr>\n",
              "  </tbody>\n",
              "</table>\n",
              "<p>133 rows × 3 columns</p>\n",
              "</div>\n",
              "      <button class=\"colab-df-convert\" onclick=\"convertToInteractive('df-55da2f62-729f-4c61-8c3e-743e238ecd67')\"\n",
              "              title=\"Convert this dataframe to an interactive table.\"\n",
              "              style=\"display:none;\">\n",
              "        \n",
              "  <svg xmlns=\"http://www.w3.org/2000/svg\" height=\"24px\"viewBox=\"0 0 24 24\"\n",
              "       width=\"24px\">\n",
              "    <path d=\"M0 0h24v24H0V0z\" fill=\"none\"/>\n",
              "    <path d=\"M18.56 5.44l.94 2.06.94-2.06 2.06-.94-2.06-.94-.94-2.06-.94 2.06-2.06.94zm-11 1L8.5 8.5l.94-2.06 2.06-.94-2.06-.94L8.5 2.5l-.94 2.06-2.06.94zm10 10l.94 2.06.94-2.06 2.06-.94-2.06-.94-.94-2.06-.94 2.06-2.06.94z\"/><path d=\"M17.41 7.96l-1.37-1.37c-.4-.4-.92-.59-1.43-.59-.52 0-1.04.2-1.43.59L10.3 9.45l-7.72 7.72c-.78.78-.78 2.05 0 2.83L4 21.41c.39.39.9.59 1.41.59.51 0 1.02-.2 1.41-.59l7.78-7.78 2.81-2.81c.8-.78.8-2.07 0-2.86zM5.41 20L4 18.59l7.72-7.72 1.47 1.35L5.41 20z\"/>\n",
              "  </svg>\n",
              "      </button>\n",
              "      \n",
              "  <style>\n",
              "    .colab-df-container {\n",
              "      display:flex;\n",
              "      flex-wrap:wrap;\n",
              "      gap: 12px;\n",
              "    }\n",
              "\n",
              "    .colab-df-convert {\n",
              "      background-color: #E8F0FE;\n",
              "      border: none;\n",
              "      border-radius: 50%;\n",
              "      cursor: pointer;\n",
              "      display: none;\n",
              "      fill: #1967D2;\n",
              "      height: 32px;\n",
              "      padding: 0 0 0 0;\n",
              "      width: 32px;\n",
              "    }\n",
              "\n",
              "    .colab-df-convert:hover {\n",
              "      background-color: #E2EBFA;\n",
              "      box-shadow: 0px 1px 2px rgba(60, 64, 67, 0.3), 0px 1px 3px 1px rgba(60, 64, 67, 0.15);\n",
              "      fill: #174EA6;\n",
              "    }\n",
              "\n",
              "    [theme=dark] .colab-df-convert {\n",
              "      background-color: #3B4455;\n",
              "      fill: #D2E3FC;\n",
              "    }\n",
              "\n",
              "    [theme=dark] .colab-df-convert:hover {\n",
              "      background-color: #434B5C;\n",
              "      box-shadow: 0px 1px 3px 1px rgba(0, 0, 0, 0.15);\n",
              "      filter: drop-shadow(0px 1px 2px rgba(0, 0, 0, 0.3));\n",
              "      fill: #FFFFFF;\n",
              "    }\n",
              "  </style>\n",
              "\n",
              "      <script>\n",
              "        const buttonEl =\n",
              "          document.querySelector('#df-55da2f62-729f-4c61-8c3e-743e238ecd67 button.colab-df-convert');\n",
              "        buttonEl.style.display =\n",
              "          google.colab.kernel.accessAllowed ? 'block' : 'none';\n",
              "\n",
              "        async function convertToInteractive(key) {\n",
              "          const element = document.querySelector('#df-55da2f62-729f-4c61-8c3e-743e238ecd67');\n",
              "          const dataTable =\n",
              "            await google.colab.kernel.invokeFunction('convertToInteractive',\n",
              "                                                     [key], {});\n",
              "          if (!dataTable) return;\n",
              "\n",
              "          const docLinkHtml = 'Like what you see? Visit the ' +\n",
              "            '<a target=\"_blank\" href=https://colab.research.google.com/notebooks/data_table.ipynb>data table notebook</a>'\n",
              "            + ' to learn more about interactive tables.';\n",
              "          element.innerHTML = '';\n",
              "          dataTable['output_type'] = 'display_data';\n",
              "          await google.colab.output.renderOutput(dataTable, element);\n",
              "          const docLink = document.createElement('div');\n",
              "          docLink.innerHTML = docLinkHtml;\n",
              "          element.appendChild(docLink);\n",
              "        }\n",
              "      </script>\n",
              "    </div>\n",
              "  </div>\n",
              "  "
            ]
          },
          "metadata": {},
          "execution_count": 78
        }
      ],
      "source": [
        "df"
      ]
    },
    {
      "cell_type": "code",
      "execution_count": null,
      "metadata": {
        "colab": {
          "base_uri": "https://localhost:8080/"
        },
        "id": "SV25DzpB8vqp",
        "outputId": "8c0d18f9-e513-49fa-df88-4915145c0367"
      },
      "outputs": [
        {
          "output_type": "execute_result",
          "data": {
            "text/plain": [
              "<bound method NDFrame.keys of       img_name  label                                          file_path\n",
              "0       25.jpg     25  /content/drive/MyDrive/insat3d_ir_cyclone_ds/C...\n",
              "1       27.jpg     27  /content/drive/MyDrive/insat3d_ir_cyclone_ds/C...\n",
              "2       28.jpg     28  /content/drive/MyDrive/insat3d_ir_cyclone_ds/C...\n",
              "3       30.jpg     30  /content/drive/MyDrive/insat3d_ir_cyclone_ds/C...\n",
              "4    30(1).jpg     30  /content/drive/MyDrive/insat3d_ir_cyclone_ds/C...\n",
              "..         ...    ...                                                ...\n",
              "131    112.jpg    112  /content/drive/MyDrive/insat3d_ir_cyclone_ds/C...\n",
              "132    115.jpg    115  /content/drive/MyDrive/insat3d_ir_cyclone_ds/C...\n",
              "133    118.jpg    118  /content/drive/MyDrive/insat3d_ir_cyclone_ds/C...\n",
              "134    119.jpg    119  /content/drive/MyDrive/insat3d_ir_cyclone_ds/C...\n",
              "135    128.jpg    128  /content/drive/MyDrive/insat3d_ir_cyclone_ds/C...\n",
              "\n",
              "[133 rows x 3 columns]>"
            ]
          },
          "metadata": {},
          "execution_count": 79
        }
      ],
      "source": [
        "df.keys"
      ]
    },
    {
      "cell_type": "code",
      "execution_count": null,
      "metadata": {
        "colab": {
          "base_uri": "https://localhost:8080/"
        },
        "id": "JodM8I5qB6cT",
        "outputId": "35509b77-b3ba-4523-e934-6852755c1a3f"
      },
      "outputs": [
        {
          "output_type": "execute_result",
          "data": {
            "text/plain": [
              "Int64Index([  0,   1,   2,   3,   4,   5,   6,   7,   8,   9,\n",
              "            ...\n",
              "            126, 127, 128, 129, 130, 131, 132, 133, 134, 135],\n",
              "           dtype='int64', length=133)"
            ]
          },
          "metadata": {},
          "execution_count": 80
        }
      ],
      "source": [
        "df.index"
      ]
    },
    {
      "cell_type": "code",
      "execution_count": null,
      "metadata": {
        "id": "wgwuDdktch5U"
      },
      "outputs": [],
      "source": [
        "class CycloneDataset(Dataset):\n",
        "  def __init__(self, df, transforms=None):\n",
        "    self.df = df\n",
        "    self.file_names = df['file_path'].values\n",
        "    self.labels = df['label'].values\n",
        "    self.transforms = transforms\n",
        "\n",
        "  def __len__(self):\n",
        "    return len(self.df)\n",
        "\n",
        "#transforms.compose reminder\n",
        "\n",
        "  def __getitem__(self, index):\n",
        "    img_path = self.file_names[index]\n",
        "    img = cv2.imread(img_path)\n",
        "    img = np.array(img)\n",
        "    totensor = transforms.ToTensor()                                                    # converts the PIL image with a pixel range of [0, 255] to a PyTorch FloatTensor of shape (C, H, W) with a range [0.0, 1.0]\n",
        "    img = totensor(img)\n",
        "    resize = transforms.Resize(size=(250, 250))                                         # resize the image\n",
        "    img = resize(img)\n",
        "    flip = transforms.RandomHorizontalFlip(p = 0.5)                                     # Horizontally flip the given image randomly with a given probability\n",
        "    img = flip(img)\n",
        "    label = self.labels[index]\n",
        "\n",
        "    # if self.transforms:\n",
        "    # img = self.transforms(image=img)[\"image\"]\n",
        "\n",
        "    return img, torch.tensor(label, dtype=torch.long).float()"
      ]
    },
    {
      "cell_type": "code",
      "execution_count": null,
      "metadata": {
        "id": "gSvtudSr7IBP"
      },
      "outputs": [],
      "source": [
        "dataset = CycloneDataset(df)"
      ]
    },
    {
      "cell_type": "code",
      "execution_count": null,
      "metadata": {
        "colab": {
          "base_uri": "https://localhost:8080/"
        },
        "id": "8ncFcz9x7OVo",
        "outputId": "3462afd4-b03b-463e-fd55-538cf2c75b52"
      },
      "outputs": [
        {
          "output_type": "execute_result",
          "data": {
            "text/plain": [
              "<__main__.CycloneDataset at 0x7f275d475a00>"
            ]
          },
          "metadata": {},
          "execution_count": 83
        }
      ],
      "source": [
        "dataset"
      ]
    },
    {
      "cell_type": "code",
      "execution_count": null,
      "metadata": {
        "id": "bUKqIRpM-dgw"
      },
      "outputs": [],
      "source": [
        "dataset = CycloneDataset(df)\n",
        "data_loader = DataLoader(dataset, batch_size=4, shuffle=True)"
      ]
    },
    {
      "cell_type": "code",
      "execution_count": null,
      "metadata": {
        "colab": {
          "base_uri": "https://localhost:8080/"
        },
        "id": "rHgdV8jT-4Vc",
        "outputId": "d0fe3d83-893c-41d3-c40d-2008790e35b2"
      },
      "outputs": [
        {
          "output_type": "execute_result",
          "data": {
            "text/plain": [
              "<torch.utils.data.dataloader.DataLoader at 0x7f275d475fa0>"
            ]
          },
          "metadata": {},
          "execution_count": 85
        }
      ],
      "source": [
        "data_loader"
      ]
    },
    {
      "cell_type": "code",
      "execution_count": null,
      "metadata": {
        "id": "LKXHENbuNtbs"
      },
      "outputs": [],
      "source": [
        "import numpy as np"
      ]
    },
    {
      "cell_type": "code",
      "execution_count": null,
      "metadata": {
        "id": "ejOPe1mtKgHD"
      },
      "outputs": [],
      "source": [
        "# for view_img, view_label in data_loader:\n",
        "#   print(view_img, view_label)"
      ]
    },
    {
      "cell_type": "code",
      "execution_count": null,
      "metadata": {
        "colab": {
          "base_uri": "https://localhost:8080/"
        },
        "id": "NnruwSQLptIH",
        "outputId": "6742d6ab-31c4-4fb1-b810-cb812afe90c0"
      },
      "outputs": [
        {
          "output_type": "execute_result",
          "data": {
            "text/plain": [
              "(tensor([[[0.6549, 0.3959, 0.3122,  ..., 0.0937, 0.0919, 0.0586],\n",
              "          [0.6604, 0.4274, 0.3367,  ..., 0.0908, 0.0888, 0.0615],\n",
              "          [0.6610, 0.4435, 0.3306,  ..., 0.0817, 0.0814, 0.0699],\n",
              "          ...,\n",
              "          [0.6517, 0.3200, 0.2422,  ..., 0.2681, 0.2799, 0.2446],\n",
              "          [0.6763, 0.1860, 0.1351,  ..., 0.2837, 0.2914, 0.2574],\n",
              "          [0.7164, 0.2850, 0.2539,  ..., 0.2356, 0.2301, 0.2032]],\n",
              " \n",
              "         [[0.9758, 0.8998, 0.9440,  ..., 0.1325, 0.1336, 0.1048],\n",
              "          [0.9782, 0.9186, 0.9553,  ..., 0.1247, 0.1269, 0.1021],\n",
              "          [0.9776, 0.9187, 0.9339,  ..., 0.1137, 0.1183, 0.1091],\n",
              "          ...,\n",
              "          [0.8764, 0.6001, 0.5661,  ..., 0.6799, 0.6697, 0.6178],\n",
              "          [0.8158, 0.3707, 0.3501,  ..., 0.7418, 0.7248, 0.6741],\n",
              "          [0.8015, 0.4178, 0.4144,  ..., 0.7242, 0.6923, 0.6455]],\n",
              " \n",
              "         [[0.9719, 0.8880, 0.9360,  ..., 0.5963, 0.5861, 0.5457],\n",
              "          [0.9784, 0.9330, 0.9692,  ..., 0.6009, 0.5917, 0.5593],\n",
              "          [0.9829, 0.9581, 0.9843,  ..., 0.5945, 0.5879, 0.5715],\n",
              "          ...,\n",
              "          [0.9530, 0.8556, 0.9176,  ..., 0.9687, 0.9695, 0.9289],\n",
              "          [0.9299, 0.7230, 0.8123,  ..., 0.9616, 0.9555, 0.9192],\n",
              "          [0.9404, 0.8169, 0.9201,  ..., 0.8999, 0.8786, 0.8441]]]),\n",
              " tensor(119.))"
            ]
          },
          "metadata": {},
          "execution_count": 88
        }
      ],
      "source": [
        "dataset[131]"
      ]
    },
    {
      "cell_type": "code",
      "execution_count": null,
      "metadata": {
        "colab": {
          "base_uri": "https://localhost:8080/",
          "height": 321
        },
        "id": "g6WTONp_nZ0m",
        "outputId": "05e82c35-d4d7-4f15-c73d-8ca4ab3185fe"
      },
      "outputs": [
        {
          "output_type": "stream",
          "name": "stdout",
          "text": [
            "INTENSITY: 82.0 KNOTS\n",
            "SIZE: torch.Size([3, 250, 250])\n",
            "\n"
          ]
        },
        {
          "output_type": "display_data",
          "data": {
            "text/plain": [
              "<Figure size 432x288 with 1 Axes>"
            ],
            "image/png": "[encoded data removed]"
          },
          "metadata": {
            "needs_background": "light"
          }
        }
      ],
      "source": [
        "#print a random image from the dataset\n",
        "import random\n",
        "i = random.randint(0, 132)\n",
        "img, label = dataset[i]\n",
        "size = img.shape\n",
        "print(f\"INTENSITY: {label} KNOTS\")\n",
        "print(f\"SIZE: {size}\\n\")\n",
        "plt.imshow(img.permute(1, 2, 0))\n",
        "plt.show()"
      ]
    },
    {
      "cell_type": "code",
      "execution_count": null,
      "metadata": {
        "colab": {
          "base_uri": "https://localhost:8080/"
        },
        "id": "kVgAvXfNwAwo",
        "outputId": "106862e1-45c8-46c2-9f24-7853909f9edc"
      },
      "outputs": [
        {
          "output_type": "stream",
          "name": "stdout",
          "text": [
            "torch.Size([3, 250, 250])\n",
            "torch.Size([3, 250, 250])\n",
            "torch.Size([3, 250, 250])\n",
            "torch.Size([3, 250, 250])\n",
            "torch.Size([3, 250, 250])\n",
            "torch.Size([3, 250, 250])\n",
            "torch.Size([3, 250, 250])\n",
            "torch.Size([3, 250, 250])\n",
            "torch.Size([3, 250, 250])\n",
            "torch.Size([3, 250, 250])\n",
            "torch.Size([3, 250, 250])\n",
            "torch.Size([3, 250, 250])\n",
            "torch.Size([3, 250, 250])\n",
            "torch.Size([3, 250, 250])\n",
            "torch.Size([3, 250, 250])\n",
            "torch.Size([3, 250, 250])\n",
            "torch.Size([3, 250, 250])\n",
            "torch.Size([3, 250, 250])\n",
            "torch.Size([3, 250, 250])\n",
            "torch.Size([3, 250, 250])\n",
            "torch.Size([3, 250, 250])\n",
            "torch.Size([3, 250, 250])\n",
            "torch.Size([3, 250, 250])\n",
            "torch.Size([3, 250, 250])\n",
            "torch.Size([3, 250, 250])\n",
            "torch.Size([3, 250, 250])\n",
            "torch.Size([3, 250, 250])\n",
            "torch.Size([3, 250, 250])\n",
            "torch.Size([3, 250, 250])\n",
            "torch.Size([3, 250, 250])\n",
            "torch.Size([3, 250, 250])\n",
            "torch.Size([3, 250, 250])\n",
            "torch.Size([3, 250, 250])\n",
            "torch.Size([3, 250, 250])\n",
            "torch.Size([3, 250, 250])\n",
            "torch.Size([3, 250, 250])\n",
            "torch.Size([3, 250, 250])\n",
            "torch.Size([3, 250, 250])\n",
            "torch.Size([3, 250, 250])\n",
            "torch.Size([3, 250, 250])\n",
            "torch.Size([3, 250, 250])\n",
            "torch.Size([3, 250, 250])\n",
            "torch.Size([3, 250, 250])\n",
            "torch.Size([3, 250, 250])\n",
            "torch.Size([3, 250, 250])\n",
            "torch.Size([3, 250, 250])\n",
            "torch.Size([3, 250, 250])\n",
            "torch.Size([3, 250, 250])\n",
            "torch.Size([3, 250, 250])\n",
            "torch.Size([3, 250, 250])\n",
            "torch.Size([3, 250, 250])\n",
            "torch.Size([3, 250, 250])\n",
            "torch.Size([3, 250, 250])\n",
            "torch.Size([3, 250, 250])\n",
            "torch.Size([3, 250, 250])\n",
            "torch.Size([3, 250, 250])\n",
            "torch.Size([3, 250, 250])\n",
            "torch.Size([3, 250, 250])\n",
            "torch.Size([3, 250, 250])\n",
            "torch.Size([3, 250, 250])\n",
            "torch.Size([3, 250, 250])\n",
            "torch.Size([3, 250, 250])\n",
            "torch.Size([3, 250, 250])\n",
            "torch.Size([3, 250, 250])\n",
            "torch.Size([3, 250, 250])\n",
            "torch.Size([3, 250, 250])\n",
            "torch.Size([3, 250, 250])\n",
            "torch.Size([3, 250, 250])\n",
            "torch.Size([3, 250, 250])\n",
            "torch.Size([3, 250, 250])\n",
            "torch.Size([3, 250, 250])\n",
            "torch.Size([3, 250, 250])\n",
            "torch.Size([3, 250, 250])\n",
            "torch.Size([3, 250, 250])\n",
            "torch.Size([3, 250, 250])\n",
            "torch.Size([3, 250, 250])\n",
            "torch.Size([3, 250, 250])\n",
            "torch.Size([3, 250, 250])\n",
            "torch.Size([3, 250, 250])\n",
            "torch.Size([3, 250, 250])\n",
            "torch.Size([3, 250, 250])\n",
            "torch.Size([3, 250, 250])\n",
            "torch.Size([3, 250, 250])\n",
            "torch.Size([3, 250, 250])\n",
            "torch.Size([3, 250, 250])\n",
            "torch.Size([3, 250, 250])\n",
            "torch.Size([3, 250, 250])\n",
            "torch.Size([3, 250, 250])\n",
            "torch.Size([3, 250, 250])\n",
            "torch.Size([3, 250, 250])\n",
            "torch.Size([3, 250, 250])\n",
            "torch.Size([3, 250, 250])\n",
            "torch.Size([3, 250, 250])\n",
            "torch.Size([3, 250, 250])\n",
            "torch.Size([3, 250, 250])\n",
            "torch.Size([3, 250, 250])\n",
            "torch.Size([3, 250, 250])\n",
            "torch.Size([3, 250, 250])\n",
            "torch.Size([3, 250, 250])\n",
            "torch.Size([3, 250, 250])\n",
            "torch.Size([3, 250, 250])\n",
            "torch.Size([3, 250, 250])\n",
            "torch.Size([3, 250, 250])\n",
            "torch.Size([3, 250, 250])\n",
            "torch.Size([3, 250, 250])\n",
            "torch.Size([3, 250, 250])\n",
            "torch.Size([3, 250, 250])\n",
            "torch.Size([3, 250, 250])\n",
            "torch.Size([3, 250, 250])\n",
            "torch.Size([3, 250, 250])\n",
            "torch.Size([3, 250, 250])\n",
            "torch.Size([3, 250, 250])\n",
            "torch.Size([3, 250, 250])\n",
            "torch.Size([3, 250, 250])\n",
            "torch.Size([3, 250, 250])\n",
            "torch.Size([3, 250, 250])\n",
            "torch.Size([3, 250, 250])\n",
            "torch.Size([3, 250, 250])\n",
            "torch.Size([3, 250, 250])\n",
            "torch.Size([3, 250, 250])\n",
            "torch.Size([3, 250, 250])\n",
            "torch.Size([3, 250, 250])\n",
            "torch.Size([3, 250, 250])\n",
            "torch.Size([3, 250, 250])\n",
            "torch.Size([3, 250, 250])\n",
            "torch.Size([3, 250, 250])\n",
            "torch.Size([3, 250, 250])\n",
            "torch.Size([3, 250, 250])\n",
            "torch.Size([3, 250, 250])\n",
            "torch.Size([3, 250, 250])\n",
            "torch.Size([3, 250, 250])\n",
            "torch.Size([3, 250, 250])\n"
          ]
        }
      ],
      "source": [
        "for i in range(132):\n",
        "  x, y = dataset[i]\n",
        "  # x = dataset[i][\"image\"]\n",
        "  print(x.shape)"
      ]
    },
    {
      "cell_type": "code",
      "execution_count": null,
      "metadata": {
        "id": "3AF6Y6f20wUf"
      },
      "outputs": [],
      "source": [
        "# RESIZE TO SAME\n",
        "# DONE :D"
      ]
    },
    {
      "cell_type": "code",
      "execution_count": null,
      "metadata": {
        "id": "T2Qg8QMgg9vg"
      },
      "outputs": [],
      "source": [
        "class Model(nn.Module):\n",
        "  def __init__(self):\n",
        "    super().__init__()\n",
        "    self.model = nn.Sequential(                                                         #conv2d,batchnorm,relu,maxpool will execute in sequential manner by ussing nn.sequential\n",
        "        nn.Conv2d(3, 256, kernel_size=3, stride=1, padding=1),                          #Applies a 2D convolution by multiply and add two matrices\n",
        "        nn.BatchNorm2d(256),                                                            #To make training efficient dataset is scaled to 0 mean and 1 variance\n",
        "        nn.ReLU(),                                                                      #To break down the linearity relu activation function is used\n",
        "        nn.Conv2d(256, 256, kernel_size=3, stride=1, padding=1),\n",
        "        nn.BatchNorm2d(256),\n",
        "        nn.ReLU(),\n",
        "        nn.MaxPool2d(2),                                                                #pool of square window of size=3(reduces feature size by taking only max,hence img size is reduced from 256-128-64-32-16)\n",
        "\n",
        "        nn.Conv2d(256, 128, kernel_size=3, stride=1, padding=1),\n",
        "        nn.BatchNorm2d(128),\n",
        "        nn.ReLU(),\n",
        "        nn.Conv2d(128, 128, kernel_size=3, stride=1, padding=1),\n",
        "        nn.BatchNorm2d(128),\n",
        "        nn.ReLU(),\n",
        "        nn.MaxPool2d(2),\n",
        "\n",
        "        nn.Conv2d(128, 64, kernel_size=3, stride=1, padding=1),\n",
        "        nn.BatchNorm2d(64),\n",
        "        nn.ReLU(),\n",
        "        nn.Conv2d(64, 64, kernel_size=3, stride=1, padding=1),\n",
        "        nn.BatchNorm2d(64),\n",
        "        nn.ReLU(),\n",
        "        nn.MaxPool2d(2),\n",
        "\n",
        "        nn.Conv2d(64, 32, kernel_size=3, stride=1, padding=1),\n",
        "        nn.BatchNorm2d(32),\n",
        "        nn.ReLU(),\n",
        "        nn.Conv2d(32, 32, kernel_size=3, stride=1, padding=1),\n",
        "        nn.BatchNorm2d(32),\n",
        "        nn.ReLU(),\n",
        "        nn.MaxPool2d(2),\n",
        "\n",
        "        nn.Conv2d(32, 16, kernel_size=3, stride=1, padding=1),\n",
        "        nn.BatchNorm2d(16),\n",
        "        nn.ReLU(),\n",
        "        nn.Conv2d(16, 16, kernel_size=3, stride=1, padding=1),\n",
        "        nn.BatchNorm2d(16),\n",
        "        nn.ReLU(),\n",
        "        nn.MaxPool2d(2),\n",
        "\n",
        "        nn.Flatten(),                                                                       # used to convert multi-dimensional arrays into a 1-D array\n",
        "        nn.Linear(784, 1),                                                                  # Out of 784 pixels need only one pixel hence used linear transformation\n",
        "        )\n",
        "  def forward(self, x):\n",
        "    return self.model(x)"
      ]
    },
    {
      "cell_type": "code",
      "execution_count": null,
      "metadata": {
        "id": "LZOICNKqEpJh",
        "colab": {
          "base_uri": "https://localhost:8080/"
        },
        "outputId": "192dc795-8505-4a91-b72e-96c3d4ad7ad7"
      },
      "outputs": [
        {
          "output_type": "execute_result",
          "data": {
            "text/plain": [
              "device(type='cuda', index=0)"
            ]
          },
          "metadata": {},
          "execution_count": 93
        }
      ],
      "source": [
        "device = torch.device(\"cuda:0\" if torch.cuda.is_available() else \"cpu\")                     # CUDA cores are 1000 times faster than cpu, used to increase the speed of execution\n",
        "device"
      ]
    },
    {
      "cell_type": "code",
      "execution_count": null,
      "metadata": {
        "colab": {
          "base_uri": "https://localhost:8080/"
        },
        "id": "y9t8UbWHBUwv",
        "outputId": "e17eff26-a8ff-4417-c45e-78977b209286"
      },
      "outputs": [
        {
          "output_type": "stream",
          "name": "stdout",
          "text": [
            "----------------------------------------------------------------\n",
            "        Layer (type)               Output Shape         Param #\n",
            "================================================================\n",
            "            Conv2d-1        [-1, 256, 250, 250]           7,168\n",
            "       BatchNorm2d-2        [-1, 256, 250, 250]             512\n",
            "              ReLU-3        [-1, 256, 250, 250]               0\n",
            "            Conv2d-4        [-1, 256, 250, 250]         590,080\n",
            "       BatchNorm2d-5        [-1, 256, 250, 250]             512\n",
            "              ReLU-6        [-1, 256, 250, 250]               0\n",
            "         MaxPool2d-7        [-1, 256, 125, 125]               0\n",
            "            Conv2d-8        [-1, 128, 125, 125]         295,040\n",
            "       BatchNorm2d-9        [-1, 128, 125, 125]             256\n",
            "             ReLU-10        [-1, 128, 125, 125]               0\n",
            "           Conv2d-11        [-1, 128, 125, 125]         147,584\n",
            "      BatchNorm2d-12        [-1, 128, 125, 125]             256\n",
            "             ReLU-13        [-1, 128, 125, 125]               0\n",
            "        MaxPool2d-14          [-1, 128, 62, 62]               0\n",
            "           Conv2d-15           [-1, 64, 62, 62]          73,792\n",
            "      BatchNorm2d-16           [-1, 64, 62, 62]             128\n",
            "             ReLU-17           [-1, 64, 62, 62]               0\n",
            "           Conv2d-18           [-1, 64, 62, 62]          36,928\n",
            "      BatchNorm2d-19           [-1, 64, 62, 62]             128\n",
            "             ReLU-20           [-1, 64, 62, 62]               0\n",
            "        MaxPool2d-21           [-1, 64, 31, 31]               0\n",
            "           Conv2d-22           [-1, 32, 31, 31]          18,464\n",
            "      BatchNorm2d-23           [-1, 32, 31, 31]              64\n",
            "             ReLU-24           [-1, 32, 31, 31]               0\n",
            "           Conv2d-25           [-1, 32, 31, 31]           9,248\n",
            "      BatchNorm2d-26           [-1, 32, 31, 31]              64\n",
            "             ReLU-27           [-1, 32, 31, 31]               0\n",
            "        MaxPool2d-28           [-1, 32, 15, 15]               0\n",
            "           Conv2d-29           [-1, 16, 15, 15]           4,624\n",
            "      BatchNorm2d-30           [-1, 16, 15, 15]              32\n",
            "             ReLU-31           [-1, 16, 15, 15]               0\n",
            "           Conv2d-32           [-1, 16, 15, 15]           2,320\n",
            "      BatchNorm2d-33           [-1, 16, 15, 15]              32\n",
            "             ReLU-34           [-1, 16, 15, 15]               0\n",
            "        MaxPool2d-35             [-1, 16, 7, 7]               0\n",
            "          Flatten-36                  [-1, 784]               0\n",
            "           Linear-37                    [-1, 1]             785\n",
            "================================================================\n",
            "Total params: 1,188,017\n",
            "Trainable params: 1,188,017\n",
            "Non-trainable params: 0\n",
            "----------------------------------------------------------------\n",
            "Input size (MB): 0.72\n",
            "Forward/backward pass size (MB): 871.62\n",
            "Params size (MB): 4.53\n",
            "Estimated Total Size (MB): 876.86\n",
            "----------------------------------------------------------------\n"
          ]
        }
      ],
      "source": [
        "model = Model().to(device)                                                                   # to tell python to connect the cuda device\n",
        "summary(model, (3, 250, 250))                                                                # Model summary is displayed"
      ]
    },
    {
      "cell_type": "code",
      "execution_count": null,
      "metadata": {
        "id": "LdtlXb-CD-S-"
      },
      "outputs": [],
      "source": [
        "loss_per_iteration = []\n",
        "\n",
        "def train_batch(epochs, model, criterion, optimizer, train_loader):\n",
        "  total = 0\n",
        "  correct = 0\n",
        "  for i in range(epochs):\n",
        "    train_loss = 0.0\n",
        "    for inputs, labels in train_loader:                                                  # Train_loader continously provide images\n",
        "      inputs, labels = inputs.to(device), labels.to(device)                              # get the inputs, labels\n",
        "      outputs = model(inputs)\n",
        "      labels = torch.unsqueeze(labels, 1)                                                # unsqueeze is a method to change the tensor dimensions\n",
        "      loss = criterion(outputs, labels)\n",
        "      optimizer.zero_grad()                                                              # zero the parameter gradients\n",
        "      loss.backward()                                                                    # Takes loss and track backward to update the weights\n",
        "      optimizer.step()                                                                   # Perform single optimization step\n",
        "      train_loss = train_loss + loss.item()\n",
        "\n",
        "\n",
        "    print(f\"Epoch: {i}/{epochs} Loss: {train_loss/len(train_loader):.5f} \")\n",
        "    loss_per_iteration.append(train_loss/len(train_loader))\n",
        "\n",
        "    return loss_per_iteration"
      ]
    },
    {
      "cell_type": "code",
      "source": [
        "plt.plot(loss_per_iteration)"
      ],
      "metadata": {
        "id": "hM1JJSMuVoZR",
        "colab": {
          "base_uri": "https://localhost:8080/",
          "height": 282
        },
        "outputId": "b512138f-6c98-43e5-f2bd-b0a4fc0e8ecb"
      },
      "execution_count": null,
      "outputs": [
        {
          "output_type": "execute_result",
          "data": {
            "text/plain": [
              "[<matplotlib.lines.Line2D at 0x7f275a5bf310>]"
            ]
          },
          "metadata": {},
          "execution_count": 115
        },
        {
          "output_type": "display_data",
          "data": {
            "text/plain": [
              "<Figure size 432x288 with 1 Axes>"
            ],
            "image/png": "[encoded data removed]"
          },
          "metadata": {
            "needs_background": "light"
          }
        }
      ]
    },
    {
      "cell_type": "code",
      "execution_count": null,
      "metadata": {
        "colab": {
          "base_uri": "https://localhost:8080/"
        },
        "id": "Ap5p8V5zW-yv",
        "outputId": "b7675b43-1508-4233-ff3d-6fbd770fece8"
      },
      "outputs": [
        {
          "output_type": "stream",
          "name": "stdout",
          "text": [
            "Sat Feb 25 12:05:19 2023       \n",
            "+-----------------------------------------------------------------------------+\n",
            "| NVIDIA-SMI 525.85.12    Driver Version: 525.85.12    CUDA Version: 12.0     |\n",
            "|-------------------------------+----------------------+----------------------+\n",
            "| GPU  Name        Persistence-M| Bus-Id        Disp.A | Volatile Uncorr. ECC |\n",
            "| Fan  Temp  Perf  Pwr:Usage/Cap|         Memory-Usage | GPU-Util  Compute M. |\n",
            "|                               |                      |               MIG M. |\n",
            "|===============================+======================+======================|\n",
            "|   0  Tesla T4            Off  | 00000000:00:04.0 Off |                    0 |\n",
            "| N/A   63C    P0    30W /  70W |   4461MiB / 15360MiB |      0%      Default |\n",
            "|                               |                      |                  N/A |\n",
            "+-------------------------------+----------------------+----------------------+\n",
            "                                                                               \n",
            "+-----------------------------------------------------------------------------+\n",
            "| Processes:                                                                  |\n",
            "|  GPU   GI   CI        PID   Type   Process name                  GPU Memory |\n",
            "|        ID   ID                                                   Usage      |\n",
            "|=============================================================================|\n",
            "+-----------------------------------------------------------------------------+\n"
          ]
        }
      ],
      "source": [
        "gpu_info = !nvidia-smi\n",
        "gpu_info = '\\n'.join(gpu_info)\n",
        "if gpu_info.find('failed') >= 0:\n",
        "  print('Not connected to a GPU')\n",
        "else:\n",
        "  print(gpu_info)"
      ]
    },
    {
      "cell_type": "code",
      "execution_count": null,
      "metadata": {
        "colab": {
          "base_uri": "https://localhost:8080/"
        },
        "id": "6qt-U6zLLLdH",
        "outputId": "0027aa1a-1a46-4067-95de-a0def9626623"
      },
      "outputs": [
        {
          "output_type": "stream",
          "name": "stdout",
          "text": [
            "Epoch: 0/35 Loss: 2561.96440 \n"
          ]
        }
      ],
      "source": [
        "model = Model().to(device)                                                                # model is originally stored on CPU, and then I want to move it to GPU0\n",
        "criterion = nn.MSELoss()                                                                  # Creates a criterion that measures the mean squared error\n",
        "optimizer = torch.optim.Adam(model.parameters(), lr =0.001)                               # Adam is one of the standard optimizer, require fewer parameters for tuning\n",
        "\n",
        "history = train_batch(epochs=35,\n",
        "            model=model,\n",
        "            criterion=criterion,\n",
        "            optimizer=optimizer,\n",
        "            train_loader = data_loader)"
      ]
    },
    {
      "cell_type": "code",
      "source": [
        "plt.plot(history)"
      ],
      "metadata": {
        "colab": {
          "base_uri": "https://localhost:8080/",
          "height": 284
        },
        "id": "glMFadIXW8YX",
        "outputId": "39064980-f0de-4f8d-e096-727c7d529904"
      },
      "execution_count": null,
      "outputs": [
        {
          "output_type": "execute_result",
          "data": {
            "text/plain": [
              "[<matplotlib.lines.Line2D at 0x7f275d33f760>]"
            ]
          },
          "metadata": {},
          "execution_count": 98
        },
        {
          "output_type": "display_data",
          "data": {
            "text/plain": [
              "<Figure size 432x288 with 1 Axes>"
            ],
            "image/png": "[encoded data removed]"
          },
          "metadata": {
            "needs_background": "light"
          }
        }
      ]
    },
    {
      "cell_type": "code",
      "execution_count": null,
      "metadata": {
        "colab": {
          "base_uri": "https://localhost:8080/"
        },
        "id": "uoCL0OdAAZ66",
        "outputId": "e83281bf-0f3a-473c-f85c-d3517d6a0a9f"
      },
      "outputs": [
        {
          "output_type": "execute_result",
          "data": {
            "text/plain": [
              "Model(\n",
              "  (model): Sequential(\n",
              "    (0): Conv2d(3, 256, kernel_size=(3, 3), stride=(1, 1), padding=(1, 1))\n",
              "    (1): BatchNorm2d(256, eps=1e-05, momentum=0.1, affine=True, track_running_stats=True)\n",
              "    (2): ReLU()\n",
              "    (3): Conv2d(256, 256, kernel_size=(3, 3), stride=(1, 1), padding=(1, 1))\n",
              "    (4): BatchNorm2d(256, eps=1e-05, momentum=0.1, affine=True, track_running_stats=True)\n",
              "    (5): ReLU()\n",
              "    (6): MaxPool2d(kernel_size=2, stride=2, padding=0, dilation=1, ceil_mode=False)\n",
              "    (7): Conv2d(256, 128, kernel_size=(3, 3), stride=(1, 1), padding=(1, 1))\n",
              "    (8): BatchNorm2d(128, eps=1e-05, momentum=0.1, affine=True, track_running_stats=True)\n",
              "    (9): ReLU()\n",
              "    (10): Conv2d(128, 128, kernel_size=(3, 3), stride=(1, 1), padding=(1, 1))\n",
              "    (11): BatchNorm2d(128, eps=1e-05, momentum=0.1, affine=True, track_running_stats=True)\n",
              "    (12): ReLU()\n",
              "    (13): MaxPool2d(kernel_size=2, stride=2, padding=0, dilation=1, ceil_mode=False)\n",
              "    (14): Conv2d(128, 64, kernel_size=(3, 3), stride=(1, 1), padding=(1, 1))\n",
              "    (15): BatchNorm2d(64, eps=1e-05, momentum=0.1, affine=True, track_running_stats=True)\n",
              "    (16): ReLU()\n",
              "    (17): Conv2d(64, 64, kernel_size=(3, 3), stride=(1, 1), padding=(1, 1))\n",
              "    (18): BatchNorm2d(64, eps=1e-05, momentum=0.1, affine=True, track_running_stats=True)\n",
              "    (19): ReLU()\n",
              "    (20): MaxPool2d(kernel_size=2, stride=2, padding=0, dilation=1, ceil_mode=False)\n",
              "    (21): Conv2d(64, 32, kernel_size=(3, 3), stride=(1, 1), padding=(1, 1))\n",
              "    (22): BatchNorm2d(32, eps=1e-05, momentum=0.1, affine=True, track_running_stats=True)\n",
              "    (23): ReLU()\n",
              "    (24): Conv2d(32, 32, kernel_size=(3, 3), stride=(1, 1), padding=(1, 1))\n",
              "    (25): BatchNorm2d(32, eps=1e-05, momentum=0.1, affine=True, track_running_stats=True)\n",
              "    (26): ReLU()\n",
              "    (27): MaxPool2d(kernel_size=2, stride=2, padding=0, dilation=1, ceil_mode=False)\n",
              "    (28): Conv2d(32, 16, kernel_size=(3, 3), stride=(1, 1), padding=(1, 1))\n",
              "    (29): BatchNorm2d(16, eps=1e-05, momentum=0.1, affine=True, track_running_stats=True)\n",
              "    (30): ReLU()\n",
              "    (31): Conv2d(16, 16, kernel_size=(3, 3), stride=(1, 1), padding=(1, 1))\n",
              "    (32): BatchNorm2d(16, eps=1e-05, momentum=0.1, affine=True, track_running_stats=True)\n",
              "    (33): ReLU()\n",
              "    (34): MaxPool2d(kernel_size=2, stride=2, padding=0, dilation=1, ceil_mode=False)\n",
              "    (35): Flatten(start_dim=1, end_dim=-1)\n",
              "    (36): Linear(in_features=784, out_features=1, bias=True)\n",
              "  )\n",
              ")"
            ]
          },
          "metadata": {},
          "execution_count": 99
        }
      ],
      "source": [
        "model.eval()"
      ]
    },
    {
      "cell_type": "code",
      "execution_count": null,
      "metadata": {
        "colab": {
          "base_uri": "https://localhost:8080/"
        },
        "id": "e1FftiTTb93b",
        "outputId": "3354f57f-34af-455d-b341-bbf3c31632b9"
      },
      "outputs": [
        {
          "output_type": "execute_result",
          "data": {
            "text/plain": [
              "tensor([[11.1255]], device='cuda:0', grad_fn=<AddmmBackward0>)"
            ]
          },
          "metadata": {},
          "execution_count": 100
        }
      ],
      "source": [
        "img = cv2.imread('/content/drive/MyDrive/insat3d_raw_cyclone_ds/CYCLONE_DATASET_FINAL/101.jpg')\n",
        "img = np.array(img)                                                                   # Convert image into array\n",
        "totensor = transforms.ToTensor()\n",
        "img = totensor(img)                                                                   # Convert numpy.ndarray to tensor\n",
        "resize = transforms.Resize(size=(248, 248))                                           # Resie the image\n",
        "img = resize(img)\n",
        "img = torch.unsqueeze(img, 0)                                                         # change dimensions of image\n",
        "img = img.to(device)\n",
        "model(img)"
      ]
    },
    {
      "cell_type": "code",
      "execution_count": null,
      "metadata": {
        "colab": {
          "base_uri": "https://localhost:8080/"
        },
        "id": "oYtRqg7yEFBW",
        "outputId": "9e662e0c-fed0-46a9-dd7a-60c6fefcc141"
      },
      "outputs": [
        {
          "output_type": "execute_result",
          "data": {
            "text/plain": [
              "tensor([[10.4201]], device='cuda:0', grad_fn=<AddmmBackward0>)"
            ]
          },
          "metadata": {},
          "execution_count": 101
        }
      ],
      "source": [
        "img = cv2.imread('/content/drive/MyDrive/insat3d_raw_cyclone_ds/CYCLONE_DATASET_FINAL/102.jpg')\n",
        "img = np.array(img)\n",
        "totensor = transforms.ToTensor()\n",
        "img = totensor(img)\n",
        "resize = transforms.Resize(size=(248, 248))\n",
        "img = resize(img)\n",
        "img = torch.unsqueeze(img, 0)\n",
        "img = img.to(device)\n",
        "model(img)"
      ]
    },
    {
      "cell_type": "code",
      "execution_count": null,
      "metadata": {
        "id": "8C-6sMAlfYru"
      },
      "outputs": [],
      "source": [
        "saved_path = './saved_modelcyclonr'\n",
        "torch.save(model.state_dict(), saved_path)"
      ]
    },
    {
      "cell_type": "code",
      "execution_count": null,
      "metadata": {
        "id": "j9nAGdnx9bAu"
      },
      "outputs": [],
      "source": [
        "torch.save(model.state_dict,'cyclonemodel2.h5')"
      ]
    },
    {
      "cell_type": "code",
      "execution_count": null,
      "metadata": {
        "id": "tgBvMdfaBlep"
      },
      "outputs": [],
      "source": [
        "torch.save(model.state_dict,'cyclonemodel2.pth')"
      ]
    },
    {
      "cell_type": "code",
      "execution_count": null,
      "metadata": {
        "colab": {
          "base_uri": "https://localhost:8080/"
        },
        "id": "tNTMIkViO-_k",
        "outputId": "ffabf910-5e01-4fa1-9d17-b462e7266d7f"
      },
      "outputs": [
        {
          "output_type": "execute_result",
          "data": {
            "text/plain": [
              "Model(\n",
              "  (model): Sequential(\n",
              "    (0): Conv2d(3, 256, kernel_size=(3, 3), stride=(1, 1), padding=(1, 1))\n",
              "    (1): BatchNorm2d(256, eps=1e-05, momentum=0.1, affine=True, track_running_stats=True)\n",
              "    (2): ReLU()\n",
              "    (3): Conv2d(256, 256, kernel_size=(3, 3), stride=(1, 1), padding=(1, 1))\n",
              "    (4): BatchNorm2d(256, eps=1e-05, momentum=0.1, affine=True, track_running_stats=True)\n",
              "    (5): ReLU()\n",
              "    (6): MaxPool2d(kernel_size=2, stride=2, padding=0, dilation=1, ceil_mode=False)\n",
              "    (7): Conv2d(256, 128, kernel_size=(3, 3), stride=(1, 1), padding=(1, 1))\n",
              "    (8): BatchNorm2d(128, eps=1e-05, momentum=0.1, affine=True, track_running_stats=True)\n",
              "    (9): ReLU()\n",
              "    (10): Conv2d(128, 128, kernel_size=(3, 3), stride=(1, 1), padding=(1, 1))\n",
              "    (11): BatchNorm2d(128, eps=1e-05, momentum=0.1, affine=True, track_running_stats=True)\n",
              "    (12): ReLU()\n",
              "    (13): MaxPool2d(kernel_size=2, stride=2, padding=0, dilation=1, ceil_mode=False)\n",
              "    (14): Conv2d(128, 64, kernel_size=(3, 3), stride=(1, 1), padding=(1, 1))\n",
              "    (15): BatchNorm2d(64, eps=1e-05, momentum=0.1, affine=True, track_running_stats=True)\n",
              "    (16): ReLU()\n",
              "    (17): Conv2d(64, 64, kernel_size=(3, 3), stride=(1, 1), padding=(1, 1))\n",
              "    (18): BatchNorm2d(64, eps=1e-05, momentum=0.1, affine=True, track_running_stats=True)\n",
              "    (19): ReLU()\n",
              "    (20): MaxPool2d(kernel_size=2, stride=2, padding=0, dilation=1, ceil_mode=False)\n",
              "    (21): Conv2d(64, 32, kernel_size=(3, 3), stride=(1, 1), padding=(1, 1))\n",
              "    (22): BatchNorm2d(32, eps=1e-05, momentum=0.1, affine=True, track_running_stats=True)\n",
              "    (23): ReLU()\n",
              "    (24): Conv2d(32, 32, kernel_size=(3, 3), stride=(1, 1), padding=(1, 1))\n",
              "    (25): BatchNorm2d(32, eps=1e-05, momentum=0.1, affine=True, track_running_stats=True)\n",
              "    (26): ReLU()\n",
              "    (27): MaxPool2d(kernel_size=2, stride=2, padding=0, dilation=1, ceil_mode=False)\n",
              "    (28): Conv2d(32, 16, kernel_size=(3, 3), stride=(1, 1), padding=(1, 1))\n",
              "    (29): BatchNorm2d(16, eps=1e-05, momentum=0.1, affine=True, track_running_stats=True)\n",
              "    (30): ReLU()\n",
              "    (31): Conv2d(16, 16, kernel_size=(3, 3), stride=(1, 1), padding=(1, 1))\n",
              "    (32): BatchNorm2d(16, eps=1e-05, momentum=0.1, affine=True, track_running_stats=True)\n",
              "    (33): ReLU()\n",
              "    (34): MaxPool2d(kernel_size=2, stride=2, padding=0, dilation=1, ceil_mode=False)\n",
              "    (35): Flatten(start_dim=1, end_dim=-1)\n",
              "    (36): Linear(in_features=784, out_features=1, bias=True)\n",
              "  )\n",
              ")"
            ]
          },
          "metadata": {},
          "execution_count": 105
        }
      ],
      "source": [
        "model= Model()\n",
        "model.load_state_dict(torch.load('/content/saved_modelcyclonr', map_location=torch.device('cpu')))\n",
        "model.eval()"
      ]
    },
    {
      "cell_type": "code",
      "execution_count": null,
      "metadata": {
        "colab": {
          "base_uri": "https://localhost:8080/"
        },
        "id": "PTyKnbq3n2J8",
        "outputId": "76315db1-1575-439a-b5a4-983748278062"
      },
      "outputs": [
        {
          "output_type": "execute_result",
          "data": {
            "text/plain": [
              "tensor([[10.7464]], grad_fn=<AddmmBackward0>)"
            ]
          },
          "metadata": {},
          "execution_count": 106
        }
      ],
      "source": [
        "path = '/content/drive/MyDrive/insat3d_raw_cyclone_ds/CYCLONE_DATASET_FINAL/111.jpg'\n",
        "img = cv2.imread(path)\n",
        "img = np.array(img)\n",
        "totensor = transforms.ToTensor()\n",
        "img = totensor(img)\n",
        "resize = transforms.Resize(size=(250, 250))\n",
        "img = resize(img)\n",
        "img = torch.unsqueeze(img, 0)\n",
        "# img = img.to(device)\n",
        "model(img)"
      ]
    },
    {
      "cell_type": "code",
      "execution_count": null,
      "metadata": {
        "colab": {
          "base_uri": "https://localhost:8080/"
        },
        "id": "Ai-nQFcdRI0R",
        "outputId": "06b62d3a-2bdb-49a3-8892-a81340d88dab"
      },
      "outputs": [
        {
          "output_type": "execute_result",
          "data": {
            "text/plain": [
              "tensor([[12.3261]], grad_fn=<AddmmBackward0>)"
            ]
          },
          "metadata": {},
          "execution_count": 107
        }
      ],
      "source": [
        "path = '/content/drive/MyDrive/insat3d_raw_cyclone_ds/CYCLONE_DATASET_FINAL/118.jpg'\n",
        "img = cv2.imread(path)\n",
        "img = np.array(img)\n",
        "totensor = transforms.ToTensor()\n",
        "img = totensor(img)\n",
        "resize = transforms.Resize(size=(250, 250))\n",
        "img = resize(img)\n",
        "img = torch.unsqueeze(img, 0)\n",
        "# img = img.to(device)\n",
        "model(img)"
      ]
    },
    {
      "cell_type": "code",
      "execution_count": null,
      "metadata": {
        "colab": {
          "base_uri": "https://localhost:8080/",
          "height": 17
        },
        "id": "2VqiO1ee4gEe",
        "outputId": "b6e0d881-c6d5-48f7-defd-d14886e2ed0e"
      },
      "outputs": [
        {
          "output_type": "display_data",
          "data": {
            "text/plain": [
              "<IPython.core.display.Javascript object>"
            ],
            "application/javascript": [
              "\n",
              "    async function download(id, filename, size) {\n",
              "      if (!google.colab.kernel.accessAllowed) {\n",
              "        return;\n",
              "      }\n",
              "      const div = document.createElement('div');\n",
              "      const label = document.createElement('label');\n",
              "      label.textContent = `Downloading \"${filename}\": `;\n",
              "      div.appendChild(label);\n",
              "      const progress = document.createElement('progress');\n",
              "      progress.max = size;\n",
              "      div.appendChild(progress);\n",
              "      document.body.appendChild(div);\n",
              "\n",
              "      const buffers = [];\n",
              "      let downloaded = 0;\n",
              "\n",
              "      const channel = await google.colab.kernel.comms.open(id);\n",
              "      // Send a message to notify the kernel that we're ready.\n",
              "      channel.send({})\n",
              "\n",
              "      for await (const message of channel.messages) {\n",
              "        // Send a message to notify the kernel that we're ready.\n",
              "        channel.send({})\n",
              "        if (message.buffers) {\n",
              "          for (const buffer of message.buffers) {\n",
              "            buffers.push(buffer);\n",
              "            downloaded += buffer.byteLength;\n",
              "            progress.value = downloaded;\n",
              "          }\n",
              "        }\n",
              "      }\n",
              "      const blob = new Blob(buffers, {type: 'application/binary'});\n",
              "      const a = document.createElement('a');\n",
              "      a.href = window.URL.createObjectURL(blob);\n",
              "      a.download = filename;\n",
              "      div.appendChild(a);\n",
              "      a.click();\n",
              "      div.remove();\n",
              "    }\n",
              "  "
            ]
          },
          "metadata": {}
        },
        {
          "output_type": "display_data",
          "data": {
            "text/plain": [
              "<IPython.core.display.Javascript object>"
            ],
            "application/javascript": [
              "download(\"download_95776131-1a49-445f-84f6-d32d3f2c15a7\", \"saved_modelcyclonr\", 4783611)"
            ]
          },
          "metadata": {}
        }
      ],
      "source": [
        "from google.colab import files\n",
        "files.download('/content/saved_modelcyclonr')"
      ]
    },
    {
      "cell_type": "markdown",
      "metadata": {
        "id": "pfJXe4QVeuRW"
      },
      "source": [
        "\n",
        "\n",
        "---\n",
        "\n"
      ]
    },
    {
      "cell_type": "code",
      "execution_count": null,
      "metadata": {
        "colab": {
          "base_uri": "https://localhost:8080/"
        },
        "id": "u0J5VyjugOuB",
        "outputId": "fc957258-ceac-4fb5-8d9d-14e3155b78c5"
      },
      "outputs": [
        {
          "output_type": "execute_result",
          "data": {
            "text/plain": [
              "25.25889015197754"
            ]
          },
          "metadata": {},
          "execution_count": 109
        }
      ],
      "source": [
        "path = '/content/drive/MyDrive/insat3d_ir_cyclone_ds/CYCLONE_DATASET_INFRARED/119.jpg'\n",
        "img = cv2.imread(path)\n",
        "img = np.array(img)\n",
        "totensor = transforms.ToTensor()\n",
        "img = totensor(img)\n",
        "resize = transforms.Resize(size=(250, 250))\n",
        "img = resize(img)\n",
        "img = torch.unsqueeze(img, 0)\n",
        "model(img).item()"
      ]
    }
  ],
  "metadata": {
    "accelerator": "GPU",
    "colab": {
      "provenance": [],
      "include_colab_link": true
    },
    "gpuClass": "standard",
    "kernelspec": {
      "display_name": "Python 3",
      "name": "python3"
    },
    "language_info": {
      "name": "python"
    }
  },
  "nbformat": 4,
  "nbformat_minor": 0
}